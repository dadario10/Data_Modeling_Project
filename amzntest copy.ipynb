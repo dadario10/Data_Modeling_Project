{
 "cells": [
  {
   "cell_type": "code",
   "execution_count": 66,
   "metadata": {},
   "outputs": [],
   "source": [
    "# import libraries\n",
    "import numpy as np\n",
    "import pandas as pd\n",
    "import matplotlib.pyplot as plt\n",
    "from sklearn.model_selection import train_test_split\n",
    "from sklearn.linear_model import LinearRegression\n",
    "import os\n",
    "import warnings"
   ]
  },
  {
   "cell_type": "code",
   "execution_count": 67,
   "metadata": {},
   "outputs": [
    {
     "data": {
      "text/html": [
       "<div>\n",
       "<style scoped>\n",
       "    .dataframe tbody tr th:only-of-type {\n",
       "        vertical-align: middle;\n",
       "    }\n",
       "\n",
       "    .dataframe tbody tr th {\n",
       "        vertical-align: top;\n",
       "    }\n",
       "\n",
       "    .dataframe thead th {\n",
       "        text-align: right;\n",
       "    }\n",
       "</style>\n",
       "<table border=\"1\" class=\"dataframe\">\n",
       "  <thead>\n",
       "    <tr style=\"text-align: right;\">\n",
       "      <th></th>\n",
       "      <th>Date</th>\n",
       "      <th>Open</th>\n",
       "      <th>High</th>\n",
       "      <th>Low</th>\n",
       "      <th>Close</th>\n",
       "      <th>Volume</th>\n",
       "    </tr>\n",
       "  </thead>\n",
       "  <tbody>\n",
       "    <tr>\n",
       "      <th>0</th>\n",
       "      <td>2018-06-12</td>\n",
       "      <td>9.56</td>\n",
       "      <td>9.56</td>\n",
       "      <td>9.56</td>\n",
       "      <td>9.56</td>\n",
       "      <td>300000</td>\n",
       "    </tr>\n",
       "    <tr>\n",
       "      <th>1</th>\n",
       "      <td>2018-06-13</td>\n",
       "      <td>9.57</td>\n",
       "      <td>9.58</td>\n",
       "      <td>9.56</td>\n",
       "      <td>9.57</td>\n",
       "      <td>179100</td>\n",
       "    </tr>\n",
       "    <tr>\n",
       "      <th>2</th>\n",
       "      <td>2018-06-14</td>\n",
       "      <td>9.57</td>\n",
       "      <td>9.57</td>\n",
       "      <td>9.57</td>\n",
       "      <td>9.57</td>\n",
       "      <td>0</td>\n",
       "    </tr>\n",
       "    <tr>\n",
       "      <th>3</th>\n",
       "      <td>2018-06-15</td>\n",
       "      <td>9.57</td>\n",
       "      <td>9.57</td>\n",
       "      <td>9.57</td>\n",
       "      <td>9.57</td>\n",
       "      <td>0</td>\n",
       "    </tr>\n",
       "    <tr>\n",
       "      <th>4</th>\n",
       "      <td>2018-06-18</td>\n",
       "      <td>9.54</td>\n",
       "      <td>9.58</td>\n",
       "      <td>9.54</td>\n",
       "      <td>9.58</td>\n",
       "      <td>300</td>\n",
       "    </tr>\n",
       "    <tr>\n",
       "      <th>5</th>\n",
       "      <td>2018-06-19</td>\n",
       "      <td>9.57</td>\n",
       "      <td>9.57</td>\n",
       "      <td>9.57</td>\n",
       "      <td>9.57</td>\n",
       "      <td>300500</td>\n",
       "    </tr>\n",
       "    <tr>\n",
       "      <th>6</th>\n",
       "      <td>2018-06-20</td>\n",
       "      <td>9.54</td>\n",
       "      <td>9.59</td>\n",
       "      <td>9.54</td>\n",
       "      <td>9.59</td>\n",
       "      <td>900</td>\n",
       "    </tr>\n",
       "    <tr>\n",
       "      <th>7</th>\n",
       "      <td>2018-06-21</td>\n",
       "      <td>9.59</td>\n",
       "      <td>9.59</td>\n",
       "      <td>9.59</td>\n",
       "      <td>9.59</td>\n",
       "      <td>0</td>\n",
       "    </tr>\n",
       "    <tr>\n",
       "      <th>8</th>\n",
       "      <td>2018-06-22</td>\n",
       "      <td>9.58</td>\n",
       "      <td>9.58</td>\n",
       "      <td>9.58</td>\n",
       "      <td>9.58</td>\n",
       "      <td>100</td>\n",
       "    </tr>\n",
       "    <tr>\n",
       "      <th>9</th>\n",
       "      <td>2018-06-25</td>\n",
       "      <td>9.58</td>\n",
       "      <td>9.58</td>\n",
       "      <td>9.58</td>\n",
       "      <td>9.58</td>\n",
       "      <td>0</td>\n",
       "    </tr>\n",
       "  </tbody>\n",
       "</table>\n",
       "</div>"
      ],
      "text/plain": [
       "         Date  Open  High   Low  Close  Volume\n",
       "0  2018-06-12  9.56  9.56  9.56   9.56  300000\n",
       "1  2018-06-13  9.57  9.58  9.56   9.57  179100\n",
       "2  2018-06-14  9.57  9.57  9.57   9.57       0\n",
       "3  2018-06-15  9.57  9.57  9.57   9.57       0\n",
       "4  2018-06-18  9.54  9.58  9.54   9.58     300\n",
       "5  2018-06-19  9.57  9.57  9.57   9.57  300500\n",
       "6  2018-06-20  9.54  9.59  9.54   9.59     900\n",
       "7  2018-06-21  9.59  9.59  9.59   9.59       0\n",
       "8  2018-06-22  9.58  9.58  9.58   9.58     100\n",
       "9  2018-06-25  9.58  9.58  9.58   9.58       0"
      ]
     },
     "execution_count": 67,
     "metadata": {},
     "output_type": "execute_result"
    }
   ],
   "source": [
    "# read csv/create dataframe\n",
    "amzn_df = pd.read_csv(\"csv files/Nikola/Nikola.csv\")\n",
    "amzn_df.head(10)"
   ]
  },
  {
   "cell_type": "code",
   "execution_count": 68,
   "metadata": {},
   "outputs": [],
   "source": [
    "# make copy for visualizations\n",
    "viz = amzn_df.copy()"
   ]
  },
  {
   "cell_type": "code",
   "execution_count": 69,
   "metadata": {},
   "outputs": [
    {
     "data": {
      "text/plain": [
       "Index(['Date', 'Open', 'High', 'Low', 'Close', 'Volume'], dtype='object')"
      ]
     },
     "execution_count": 69,
     "metadata": {},
     "output_type": "execute_result"
    }
   ],
   "source": [
    "# list columns\n",
    "amzn_df.columns"
   ]
  },
  {
   "cell_type": "code",
   "execution_count": 70,
   "metadata": {},
   "outputs": [
    {
     "data": {
      "text/plain": [
       "Date      0\n",
       "Open      0\n",
       "High      0\n",
       "Low       0\n",
       "Close     0\n",
       "Volume    0\n",
       "dtype: int64"
      ]
     },
     "execution_count": 70,
     "metadata": {},
     "output_type": "execute_result"
    }
   ],
   "source": [
    "# check for missing values\n",
    "missing_values = amzn_df.isnull().sum()\n",
    "missing_values"
   ]
  },
  {
   "cell_type": "code",
   "execution_count": 71,
   "metadata": {},
   "outputs": [
    {
     "name": "stdout",
     "output_type": "stream",
     "text": [
      "<class 'pandas.core.frame.DataFrame'>\n",
      "RangeIndex: 1326 entries, 0 to 1325\n",
      "Data columns (total 6 columns):\n",
      " #   Column  Non-Null Count  Dtype  \n",
      "---  ------  --------------  -----  \n",
      " 0   Date    1326 non-null   object \n",
      " 1   Open    1326 non-null   float64\n",
      " 2   High    1326 non-null   float64\n",
      " 3   Low     1326 non-null   float64\n",
      " 4   Close   1326 non-null   float64\n",
      " 5   Volume  1326 non-null   int64  \n",
      "dtypes: float64(4), int64(1), object(1)\n",
      "memory usage: 62.3+ KB\n"
     ]
    }
   ],
   "source": [
    "# dataframe info\n",
    "amzn_info = amzn_df.info()\n",
    "amzn_info"
   ]
  },
  {
   "cell_type": "code",
   "execution_count": 72,
   "metadata": {},
   "outputs": [
    {
     "data": {
      "text/html": [
       "<div>\n",
       "<style scoped>\n",
       "    .dataframe tbody tr th:only-of-type {\n",
       "        vertical-align: middle;\n",
       "    }\n",
       "\n",
       "    .dataframe tbody tr th {\n",
       "        vertical-align: top;\n",
       "    }\n",
       "\n",
       "    .dataframe thead th {\n",
       "        text-align: right;\n",
       "    }\n",
       "</style>\n",
       "<table border=\"1\" class=\"dataframe\">\n",
       "  <thead>\n",
       "    <tr style=\"text-align: right;\">\n",
       "      <th></th>\n",
       "      <th>count</th>\n",
       "      <th>mean</th>\n",
       "      <th>std</th>\n",
       "      <th>min</th>\n",
       "      <th>25%</th>\n",
       "      <th>50%</th>\n",
       "      <th>75%</th>\n",
       "      <th>max</th>\n",
       "    </tr>\n",
       "  </thead>\n",
       "  <tbody>\n",
       "    <tr>\n",
       "      <th>Open</th>\n",
       "      <td>1326.0</td>\n",
       "      <td>1.185430e+01</td>\n",
       "      <td>1.090421e+01</td>\n",
       "      <td>0.557</td>\n",
       "      <td>6.79750</td>\n",
       "      <td>10.04</td>\n",
       "      <td>1.189750e+01</td>\n",
       "      <td>9.313000e+01</td>\n",
       "    </tr>\n",
       "    <tr>\n",
       "      <th>High</th>\n",
       "      <td>1326.0</td>\n",
       "      <td>1.224953e+01</td>\n",
       "      <td>1.152684e+01</td>\n",
       "      <td>0.570</td>\n",
       "      <td>7.20625</td>\n",
       "      <td>10.06</td>\n",
       "      <td>1.220000e+01</td>\n",
       "      <td>9.399000e+01</td>\n",
       "    </tr>\n",
       "    <tr>\n",
       "      <th>Low</th>\n",
       "      <td>1326.0</td>\n",
       "      <td>1.140478e+01</td>\n",
       "      <td>1.005245e+01</td>\n",
       "      <td>0.521</td>\n",
       "      <td>6.56750</td>\n",
       "      <td>9.99</td>\n",
       "      <td>1.133500e+01</td>\n",
       "      <td>7.020000e+01</td>\n",
       "    </tr>\n",
       "    <tr>\n",
       "      <th>Close</th>\n",
       "      <td>1326.0</td>\n",
       "      <td>1.180899e+01</td>\n",
       "      <td>1.079034e+01</td>\n",
       "      <td>0.542</td>\n",
       "      <td>6.79250</td>\n",
       "      <td>10.03</td>\n",
       "      <td>1.176750e+01</td>\n",
       "      <td>7.973000e+01</td>\n",
       "    </tr>\n",
       "    <tr>\n",
       "      <th>Volume</th>\n",
       "      <td>1326.0</td>\n",
       "      <td>1.482669e+07</td>\n",
       "      <td>2.949874e+07</td>\n",
       "      <td>0.000</td>\n",
       "      <td>60475.00000</td>\n",
       "      <td>8754650.00</td>\n",
       "      <td>1.531118e+07</td>\n",
       "      <td>3.856128e+08</td>\n",
       "    </tr>\n",
       "  </tbody>\n",
       "</table>\n",
       "</div>"
      ],
      "text/plain": [
       "         count          mean           std    min          25%         50%  \\\n",
       "Open    1326.0  1.185430e+01  1.090421e+01  0.557      6.79750       10.04   \n",
       "High    1326.0  1.224953e+01  1.152684e+01  0.570      7.20625       10.06   \n",
       "Low     1326.0  1.140478e+01  1.005245e+01  0.521      6.56750        9.99   \n",
       "Close   1326.0  1.180899e+01  1.079034e+01  0.542      6.79250       10.03   \n",
       "Volume  1326.0  1.482669e+07  2.949874e+07  0.000  60475.00000  8754650.00   \n",
       "\n",
       "                 75%           max  \n",
       "Open    1.189750e+01  9.313000e+01  \n",
       "High    1.220000e+01  9.399000e+01  \n",
       "Low     1.133500e+01  7.020000e+01  \n",
       "Close   1.176750e+01  7.973000e+01  \n",
       "Volume  1.531118e+07  3.856128e+08  "
      ]
     },
     "execution_count": 72,
     "metadata": {},
     "output_type": "execute_result"
    }
   ],
   "source": [
    "# display stats for each column\n",
    "summary_stats = amzn_df.describe().T\n",
    "summary_stats"
   ]
  },
  {
   "cell_type": "code",
   "execution_count": 73,
   "metadata": {},
   "outputs": [],
   "source": [
    "# convert date to datetime\n",
    "amzn_df['Date'] = pd.to_datetime(amzn_df['Date'])"
   ]
  },
  {
   "cell_type": "code",
   "execution_count": 74,
   "metadata": {},
   "outputs": [
    {
     "data": {
      "text/plain": [
       "<Axes: >"
      ]
     },
     "execution_count": 74,
     "metadata": {},
     "output_type": "execute_result"
    },
    {
     "data": {
      "image/png": "[encoded data removed]",
      "text/plain": [
       "<Figure size 640x480 with 1 Axes>"
      ]
     },
     "metadata": {},
     "output_type": "display_data"
    }
   ],
   "source": [
    "# plot closing\n",
    "amzn_df['Close'].plot()"
   ]
  },
  {
   "cell_type": "code",
   "execution_count": 75,
   "metadata": {},
   "outputs": [],
   "source": [
    "from sklearn.model_selection import train_test_split\n",
    "\n",
    "#features\n",
    "features = ['Open', 'High', 'Low', 'Close', 'Volume']\n",
    "target = 'Close'\n",
    "\n",
    "#split data\n",
    "train_data, test_data = train_test_split(amzn_df, test_size=0.05, shuffle=False)\n"
   ]
  },
  {
   "cell_type": "code",
   "execution_count": 76,
   "metadata": {},
   "outputs": [],
   "source": [
    "from statsmodels.tsa.arima.model import ARIMA"
   ]
  },
  {
   "cell_type": "code",
   "execution_count": 77,
   "metadata": {},
   "outputs": [],
   "source": [
    "arima_model =ARIMA(train_data[target], order=(1, 1, 2))\n",
    "arima_fit = arima_model.fit()"
   ]
  },
  {
   "cell_type": "code",
   "execution_count": 78,
   "metadata": {},
   "outputs": [
    {
     "name": "stdout",
     "output_type": "stream",
     "text": [
      "1.24450728536255\n"
     ]
    }
   ],
   "source": [
    "from sklearn.metrics import mean_squared_error\n",
    "\n",
    "predictions = arima_fit.forecast(steps=len(test_data))\n",
    "mse = mean_squared_error(test_data[target], predictions)\n",
    "print(mse)"
   ]
  },
  {
   "cell_type": "code",
   "execution_count": 79,
   "metadata": {},
   "outputs": [
    {
     "data": {
      "image/png": "[encoded data removed]",
      "text/plain": [
       "<Figure size 640x480 with 1 Axes>"
      ]
     },
     "metadata": {},
     "output_type": "display_data"
    }
   ],
   "source": [
    "# plot\n",
    "plt.plot(test_data['Date'], test_data[target], label='Actual')\n",
    "plt.plot(test_data['Date'], predictions, label='Predicted')\n",
    "plt.xlabel('Date')\n",
    "plt.ylabel('Price')\n",
    "plt.title('Actual vs. Predicted Stock Price')\n",
    "plt.show()"
   ]
  },
  {
   "cell_type": "code",
   "execution_count": 80,
   "metadata": {},
   "outputs": [],
   "source": [
    "#pip install xgboost"
   ]
  },
  {
   "cell_type": "code",
   "execution_count": 81,
   "metadata": {},
   "outputs": [],
   "source": [
    "import xgboost as xgb\n",
    "\n",
    "#features\n",
    "features = ['Open', 'High', 'Low', 'Close', 'Volume']\n",
    "target = 'Close'\n",
    "\n",
    "train_dmatrix = xgb.DMatrix(data=train_data[features], label=train_data[target])\n",
    "\n",
    "# Define XGBoost parameters\n",
    "params = {\n",
    "    'objective': 'reg:squarederror',\n",
    "    'max_depth': 3,\n",
    "    'learning_rate': 0.1\n",
    "}\n",
    "\n",
    "# Train the XGBoost model\n",
    "xgb_model = xgb.train(params=params, dtrain=train_dmatrix)"
   ]
  },
  {
   "cell_type": "code",
   "execution_count": 82,
   "metadata": {},
   "outputs": [],
   "source": [
    "# Create DMatrix for test data\n",
    "test_dmatrix = xgb.DMatrix(data=test_data[features], label=test_data[target])\n",
    "\n",
    "# Use the trained XGBoost model to make predictions\n",
    "xgb_predictions = xgb_model.predict(test_dmatrix)\n",
    "\n",
    "# Calculate Mean Squared Error\n",
    "mse_xgb = mean_squared_error(test_data[target], xgb_predictions)"
   ]
  },
  {
   "cell_type": "code",
   "execution_count": 83,
   "metadata": {},
   "outputs": [
    {
     "data": {
      "text/plain": [
       "array([5.813851 , 5.813851 , 5.813851 , 5.813851 , 5.813851 , 5.813851 ,\n",
       "       5.813851 , 5.813851 , 5.813851 , 5.813851 , 5.813851 , 5.813851 ,\n",
       "       5.813851 , 5.813851 , 5.813851 , 5.813851 , 5.813851 , 5.813851 ,\n",
       "       5.813851 , 5.813851 , 5.813851 , 5.813851 , 5.813851 , 5.813851 ,\n",
       "       5.813851 , 5.813851 , 5.813851 , 5.813851 , 5.813851 , 5.813851 ,\n",
       "       5.813851 , 5.813851 , 5.813851 , 6.01345  , 6.01345  , 6.2603416,\n",
       "       5.813851 , 5.813851 , 5.813851 , 5.813851 , 5.813851 , 5.813851 ,\n",
       "       5.813851 , 5.813851 , 5.813851 , 5.813851 , 5.813851 , 5.813851 ,\n",
       "       5.813851 , 5.813851 , 5.813851 , 5.813851 , 5.813851 , 5.813851 ,\n",
       "       5.813851 , 5.813851 , 5.813851 , 5.813851 , 5.813851 , 5.813851 ,\n",
       "       5.813851 , 5.813851 , 5.813851 , 5.813851 , 5.813851 , 5.813851 ,\n",
       "       5.813851 ], dtype=float32)"
      ]
     },
     "execution_count": 83,
     "metadata": {},
     "output_type": "execute_result"
    }
   ],
   "source": [
    "xgb_predictions"
   ]
  },
  {
   "cell_type": "code",
   "execution_count": 84,
   "metadata": {},
   "outputs": [],
   "source": [
    "#test_data = test_dmatrix.get_data()\n",
    "#print(test_data)"
   ]
  },
  {
   "cell_type": "code",
   "execution_count": 85,
   "metadata": {},
   "outputs": [
    {
     "data": {
      "image/png": "[encoded data removed]",
      "text/plain": [
       "<Figure size 640x480 with 1 Axes>"
      ]
     },
     "metadata": {},
     "output_type": "display_data"
    }
   ],
   "source": [
    "# plot\n",
    "plt.plot(test_data['Date'], test_data[target], label='Actual')\n",
    "plt.plot(test_data['Date'], xgb_predictions, label='Predicted')\n",
    "plt.legend()\n",
    "plt.xlabel('Date')\n",
    "plt.ylabel('Price')\n",
    "plt.title('Actual vs. Predicted Stock Price')\n",
    "plt.show()\n"
   ]
  },
  {
   "cell_type": "code",
   "execution_count": null,
   "metadata": {},
   "outputs": [],
   "source": []
  },
  {
   "cell_type": "code",
   "execution_count": null,
   "metadata": {},
   "outputs": [],
   "source": []
  }
 ],
 "metadata": {
  "kernelspec": {
   "display_name": "dev",
   "language": "python",
   "name": "python3"
  },
  "language_info": {
   "codemirror_mode": {
    "name": "ipython",
    "version": 3
   },
   "file_extension": ".py",
   "mimetype": "text/x-python",
   "name": "python",
   "nbconvert_exporter": "python",
   "pygments_lexer": "ipython3",
   "version": "3.10.11"
  }
 },
 "nbformat": 4,
 "nbformat_minor": 2
}
