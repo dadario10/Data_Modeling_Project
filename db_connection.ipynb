{
 "cells": [
  {
   "cell_type": "code",
   "execution_count": 1,
   "metadata": {},
   "outputs": [
    {
     "name": "stdout",
     "output_type": "stream",
     "text": [
      "Connected to MySQL database\n"
     ]
    },
    {
     "data": {
      "text/html": [
       "<div>\n",
       "<style scoped>\n",
       "    .dataframe tbody tr th:only-of-type {\n",
       "        vertical-align: middle;\n",
       "    }\n",
       "\n",
       "    .dataframe tbody tr th {\n",
       "        vertical-align: top;\n",
       "    }\n",
       "\n",
       "    .dataframe thead th {\n",
       "        text-align: right;\n",
       "    }\n",
       "</style>\n",
       "<table border=\"1\" class=\"dataframe\">\n",
       "  <thead>\n",
       "    <tr style=\"text-align: right;\">\n",
       "      <th></th>\n",
       "      <th>Date</th>\n",
       "      <th>Open</th>\n",
       "      <th>High</th>\n",
       "      <th>Low</th>\n",
       "      <th>Close</th>\n",
       "      <th>Volume</th>\n",
       "    </tr>\n",
       "  </thead>\n",
       "  <tbody>\n",
       "    <tr>\n",
       "      <th>0</th>\n",
       "      <td>2018-02-20</td>\n",
       "      <td>72.324501</td>\n",
       "      <td>74.438499</td>\n",
       "      <td>72.324501</td>\n",
       "      <td>73.417503</td>\n",
       "      <td>129984000</td>\n",
       "    </tr>\n",
       "    <tr>\n",
       "      <th>1</th>\n",
       "      <td>2018-02-21</td>\n",
       "      <td>74.250000</td>\n",
       "      <td>75.174500</td>\n",
       "      <td>73.945999</td>\n",
       "      <td>74.146004</td>\n",
       "      <td>126088000</td>\n",
       "    </tr>\n",
       "    <tr>\n",
       "      <th>2</th>\n",
       "      <td>2018-02-22</td>\n",
       "      <td>74.767998</td>\n",
       "      <td>75.126999</td>\n",
       "      <td>73.788002</td>\n",
       "      <td>74.266998</td>\n",
       "      <td>97162000</td>\n",
       "    </tr>\n",
       "    <tr>\n",
       "      <th>3</th>\n",
       "      <td>2018-02-23</td>\n",
       "      <td>74.766998</td>\n",
       "      <td>75.000000</td>\n",
       "      <td>74.324997</td>\n",
       "      <td>75.000000</td>\n",
       "      <td>88362000</td>\n",
       "    </tr>\n",
       "    <tr>\n",
       "      <th>4</th>\n",
       "      <td>2018-02-26</td>\n",
       "      <td>75.459999</td>\n",
       "      <td>76.141998</td>\n",
       "      <td>75.349998</td>\n",
       "      <td>76.097504</td>\n",
       "      <td>99100000</td>\n",
       "    </tr>\n",
       "  </tbody>\n",
       "</table>\n",
       "</div>"
      ],
      "text/plain": [
       "        Date       Open       High        Low      Close     Volume\n",
       "0 2018-02-20  72.324501  74.438499  72.324501  73.417503  129984000\n",
       "1 2018-02-21  74.250000  75.174500  73.945999  74.146004  126088000\n",
       "2 2018-02-22  74.767998  75.126999  73.788002  74.266998   97162000\n",
       "3 2018-02-23  74.766998  75.000000  74.324997  75.000000   88362000\n",
       "4 2018-02-26  75.459999  76.141998  75.349998  76.097504   99100000"
      ]
     },
     "execution_count": 1,
     "metadata": {},
     "output_type": "execute_result"
    }
   ],
   "source": [
    "import pandas as pd\n",
    "from sqlalchemy import create_engine\n",
    "\n",
    "# Replace these values with your actual database information\n",
    "hostname = \"gator3228.hostgator.com\"\n",
    "username = \"rbrennan_sm_rb\"\n",
    "password = \"This_is_not_the_password\"\n",
    "database = \"rbrennan_stock_project_4\"\n",
    "# Create a database connection\n",
    "db_url = f\"mysql+mysqlconnector://{username}:{password}@{hostname}/{database}\"\n",
    "engine = create_engine(db_url)\n",
    "# Test the connection\n",
    "try:\n",
    "    conn = engine.connect()\n",
    "    print(\"Connected to MySQL database\")\n",
    "except Exception as e:\n",
    "    print(\"Error:\", e)\n",
    "amazon_data = pd.read_sql(\"SELECT * FROM Amazon\", conn)\n",
    "\n",
    "amazon_data.head()\n",
    "\n",
    "\n"
   ]
  }
 ],
 "metadata": {
  "kernelspec": {
   "display_name": "dev",
   "language": "python",
   "name": "python3"
  },
  "language_info": {
   "codemirror_mode": {
    "name": "ipython",
    "version": 3
   },
   "file_extension": ".py",
   "mimetype": "text/x-python",
   "name": "python",
   "nbconvert_exporter": "python",
   "pygments_lexer": "ipython3",
   "version": "3.10.11"
  },
  "orig_nbformat": 4
 },
 "nbformat": 4,
 "nbformat_minor": 2
}
