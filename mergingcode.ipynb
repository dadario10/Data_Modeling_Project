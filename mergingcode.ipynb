{
 "cells": [
  {
   "cell_type": "code",
   "execution_count": 9,
   "metadata": {},
   "outputs": [],
   "source": [
    "import pandas as pd\n",
    "\n",
    "# Define the file path where the CSV files are located for Amazon\n",
    "file_path = r'C:\\Users\\dario\\OneDrive\\Desktop\\Data Modeling Project\\Data_Modeling_Project\\csv files\\Amazon'"
   ]
  },
  {
   "cell_type": "code",
   "execution_count": 10,
   "metadata": {},
   "outputs": [],
   "source": [
    "# Load CSV Files\n",
    "amzn1 = 'AMZN2018-2020.csv'\n",
    "amzn2 = 'AMZN2020-2022.csv'\n",
    "amzn3 = 'AMZN2022-2023.csv'\n",
    "\n",
    "df1 = pd.read_csv(f'{file_path}/{amzn1}')\n",
    "df2 = pd.read_csv(f'{file_path}/{amzn2}')\n",
    "df3 = pd.read_csv(f'{file_path}/{amzn3}')"
   ]
  },
  {
   "cell_type": "code",
   "execution_count": 11,
   "metadata": {},
   "outputs": [],
   "source": [
    "# Merge DataFrames\n",
    "amazon_df = pd.concat([df1, df2, df3], axis=0, ignore_index=True)"
   ]
  },
  {
   "cell_type": "code",
   "execution_count": 12,
   "metadata": {},
   "outputs": [],
   "source": [
    "# Save Merged DataFrame to CSV\n",
    "amazon_df.to_csv(f'{file_path}/Amazon.csv', index=False)"
   ]
  },
  {
   "cell_type": "code",
   "execution_count": 13,
   "metadata": {},
   "outputs": [],
   "source": [
    "# Define the file path where the CSV files are located for Netflix\n",
    "file_path2 = r'C:\\Users\\dario\\OneDrive\\Desktop\\Data Modeling Project\\Data_Modeling_Project\\csv files\\Netflix'"
   ]
  },
  {
   "cell_type": "code",
   "execution_count": 14,
   "metadata": {},
   "outputs": [],
   "source": [
    "# Load CSV Files\n",
    "nflx1 = 'NFLX2018-2020.csv'\n",
    "nflx2 = 'NFLX2020-2022.csv'\n",
    "nflx3 = 'NFLX2022-2023.csv'\n",
    "\n",
    "df4 = pd.read_csv(f'{file_path2}/{nflx1}')\n",
    "df5 = pd.read_csv(f'{file_path2}/{nflx2}')\n",
    "df6 = pd.read_csv(f'{file_path2}/{nflx3}')"
   ]
  },
  {
   "cell_type": "code",
   "execution_count": 15,
   "metadata": {},
   "outputs": [],
   "source": [
    "# Merge DataFrames\n",
    "netflix_df = pd.concat([df4, df5, df6], axis=0, ignore_index=True)"
   ]
  },
  {
   "cell_type": "code",
   "execution_count": 16,
   "metadata": {},
   "outputs": [],
   "source": [
    "# Save Merged DataFrame to CSV\n",
    "netflix_df.to_csv(f'{file_path2}/Netflix.csv', index=False)"
   ]
  },
  {
   "cell_type": "code",
   "execution_count": 17,
   "metadata": {},
   "outputs": [],
   "source": [
    "# Define the file path where the CSV files are located for Nikola\n",
    "file_path3 = r'C:\\Users\\dario\\OneDrive\\Desktop\\Data Modeling Project\\Data_Modeling_Project\\csv files\\Nikola'"
   ]
  },
  {
   "cell_type": "code",
   "execution_count": 18,
   "metadata": {},
   "outputs": [],
   "source": [
    "# Load CSV Files\n",
    "nkla1 = 'NKLA2018-2020.csv'\n",
    "nkla2 = 'NKLA2020-2022.csv'\n",
    "nkla3 = 'NKLA2022-2023.csv'\n",
    "\n",
    "df7 = pd.read_csv(f'{file_path3}/{nkla1}')\n",
    "df8 = pd.read_csv(f'{file_path3}/{nkla2}')\n",
    "df9 = pd.read_csv(f'{file_path3}/{nkla3}')"
   ]
  },
  {
   "cell_type": "code",
   "execution_count": 19,
   "metadata": {},
   "outputs": [],
   "source": [
    "# Merge DataFrames\n",
    "nikola_df = pd.concat([df7, df8, df9], axis=0, ignore_index=True)"
   ]
  },
  {
   "cell_type": "code",
   "execution_count": 20,
   "metadata": {},
   "outputs": [],
   "source": [
    "# Save Merged DataFrame to CSV\n",
    "nikola_df.to_csv(f'{file_path3}/Nikola.csv', index=False)"
   ]
  }
 ],
 "metadata": {
  "kernelspec": {
   "display_name": "dev",
   "language": "python",
   "name": "python3"
  },
  "language_info": {
   "codemirror_mode": {
    "name": "ipython",
    "version": 3
   },
   "file_extension": ".py",
   "mimetype": "text/x-python",
   "name": "python",
   "nbconvert_exporter": "python",
   "pygments_lexer": "ipython3",
   "version": "3.10.11"
  },
  "orig_nbformat": 4
 },
 "nbformat": 4,
 "nbformat_minor": 2
}
