{
 "cells": [
  {
   "cell_type": "code",
   "execution_count": 50,
   "metadata": {},
   "outputs": [],
   "source": [
    "# import libraries\n",
    "import numpy as np\n",
    "import pandas as pd\n",
    "import matplotlib.pyplot as plt\n",
    "import os\n",
    "import warnings\n",
    "from sqlalchemy import create_engine\n",
    "# Model dependencies\n",
    "from sklearn.preprocessing import StandardScaler\n",
    "from sklearn.model_selection import train_test_split\n",
    "from sklearn.linear_model import LinearRegression\n",
    "from statsmodels.tsa.arima.model import ARIMA\n",
    "from sklearn.model_selection import train_test_split\n",
    "from sklearn.metrics import mean_squared_error,mean_absolute_error, median_absolute_error\n",
    "import xgboost as xgb"
   ]
  },
  {
   "cell_type": "code",
   "execution_count": 51,
   "metadata": {},
   "outputs": [
    {
     "name": "stderr",
     "output_type": "stream",
     "text": [
      "Exception during reset or similar\n",
      "Traceback (most recent call last):\n",
      "  File \"c:\\Users\\justi\\anaconda3\\envs\\dev\\lib\\site-packages\\sqlalchemy\\pool\\base.py\", line 739, in _finalize_fairy\n",
      "    fairy._reset(pool)\n",
      "  File \"c:\\Users\\justi\\anaconda3\\envs\\dev\\lib\\site-packages\\sqlalchemy\\pool\\base.py\", line 988, in _reset\n",
      "    pool._dialect.do_rollback(self)\n",
      "  File \"c:\\Users\\justi\\anaconda3\\envs\\dev\\lib\\site-packages\\sqlalchemy\\engine\\default.py\", line 682, in do_rollback\n",
      "    dbapi_connection.rollback()\n",
      "  File \"c:\\Users\\justi\\anaconda3\\envs\\dev\\lib\\site-packages\\mysql\\connector\\connection_cext.py\", line 517, in rollback\n",
      "    self._cmysql.rollback()\n",
      "_mysql_connector.MySQLInterfaceError: Lost connection to MySQL server during query\n"
     ]
    },
    {
     "name": "stdout",
     "output_type": "stream",
     "text": [
      "Connected to MySQL database\n"
     ]
    },
    {
     "data": {
      "text/html": [
       "<div>\n",
       "<style scoped>\n",
       "    .dataframe tbody tr th:only-of-type {\n",
       "        vertical-align: middle;\n",
       "    }\n",
       "\n",
       "    .dataframe tbody tr th {\n",
       "        vertical-align: top;\n",
       "    }\n",
       "\n",
       "    .dataframe thead th {\n",
       "        text-align: right;\n",
       "    }\n",
       "</style>\n",
       "<table border=\"1\" class=\"dataframe\">\n",
       "  <thead>\n",
       "    <tr style=\"text-align: right;\">\n",
       "      <th></th>\n",
       "      <th>Date</th>\n",
       "      <th>Open</th>\n",
       "      <th>High</th>\n",
       "      <th>Low</th>\n",
       "      <th>Close</th>\n",
       "      <th>Volume</th>\n",
       "    </tr>\n",
       "  </thead>\n",
       "  <tbody>\n",
       "    <tr>\n",
       "      <th>0</th>\n",
       "      <td>2018-06-12</td>\n",
       "      <td>9.560</td>\n",
       "      <td>9.560</td>\n",
       "      <td>9.560</td>\n",
       "      <td>9.560</td>\n",
       "      <td>300000</td>\n",
       "    </tr>\n",
       "    <tr>\n",
       "      <th>1</th>\n",
       "      <td>2018-06-13</td>\n",
       "      <td>9.570</td>\n",
       "      <td>9.580</td>\n",
       "      <td>9.560</td>\n",
       "      <td>9.570</td>\n",
       "      <td>179100</td>\n",
       "    </tr>\n",
       "    <tr>\n",
       "      <th>2</th>\n",
       "      <td>2018-06-14</td>\n",
       "      <td>9.570</td>\n",
       "      <td>9.570</td>\n",
       "      <td>9.570</td>\n",
       "      <td>9.570</td>\n",
       "      <td>0</td>\n",
       "    </tr>\n",
       "    <tr>\n",
       "      <th>3</th>\n",
       "      <td>2018-06-15</td>\n",
       "      <td>9.570</td>\n",
       "      <td>9.570</td>\n",
       "      <td>9.570</td>\n",
       "      <td>9.570</td>\n",
       "      <td>0</td>\n",
       "    </tr>\n",
       "    <tr>\n",
       "      <th>4</th>\n",
       "      <td>2018-06-18</td>\n",
       "      <td>9.540</td>\n",
       "      <td>9.580</td>\n",
       "      <td>9.540</td>\n",
       "      <td>9.580</td>\n",
       "      <td>300</td>\n",
       "    </tr>\n",
       "    <tr>\n",
       "      <th>...</th>\n",
       "      <td>...</td>\n",
       "      <td>...</td>\n",
       "      <td>...</td>\n",
       "      <td>...</td>\n",
       "      <td>...</td>\n",
       "      <td>...</td>\n",
       "    </tr>\n",
       "    <tr>\n",
       "      <th>1321</th>\n",
       "      <td>2023-09-12</td>\n",
       "      <td>0.889</td>\n",
       "      <td>0.914</td>\n",
       "      <td>0.826</td>\n",
       "      <td>0.912</td>\n",
       "      <td>99803800</td>\n",
       "    </tr>\n",
       "    <tr>\n",
       "      <th>1322</th>\n",
       "      <td>2023-09-13</td>\n",
       "      <td>0.910</td>\n",
       "      <td>0.913</td>\n",
       "      <td>0.850</td>\n",
       "      <td>0.870</td>\n",
       "      <td>68874900</td>\n",
       "    </tr>\n",
       "    <tr>\n",
       "      <th>1323</th>\n",
       "      <td>2023-09-14</td>\n",
       "      <td>0.871</td>\n",
       "      <td>1.190</td>\n",
       "      <td>0.855</td>\n",
       "      <td>1.150</td>\n",
       "      <td>235670400</td>\n",
       "    </tr>\n",
       "    <tr>\n",
       "      <th>1324</th>\n",
       "      <td>2023-09-15</td>\n",
       "      <td>1.330</td>\n",
       "      <td>1.380</td>\n",
       "      <td>1.150</td>\n",
       "      <td>1.190</td>\n",
       "      <td>271454100</td>\n",
       "    </tr>\n",
       "    <tr>\n",
       "      <th>1325</th>\n",
       "      <td>2023-09-18</td>\n",
       "      <td>1.240</td>\n",
       "      <td>1.630</td>\n",
       "      <td>1.230</td>\n",
       "      <td>1.590</td>\n",
       "      <td>306512500</td>\n",
       "    </tr>\n",
       "  </tbody>\n",
       "</table>\n",
       "<p>1326 rows × 6 columns</p>\n",
       "</div>"
      ],
      "text/plain": [
       "           Date   Open   High    Low  Close     Volume\n",
       "0    2018-06-12  9.560  9.560  9.560  9.560     300000\n",
       "1    2018-06-13  9.570  9.580  9.560  9.570     179100\n",
       "2    2018-06-14  9.570  9.570  9.570  9.570          0\n",
       "3    2018-06-15  9.570  9.570  9.570  9.570          0\n",
       "4    2018-06-18  9.540  9.580  9.540  9.580        300\n",
       "...         ...    ...    ...    ...    ...        ...\n",
       "1321 2023-09-12  0.889  0.914  0.826  0.912   99803800\n",
       "1322 2023-09-13  0.910  0.913  0.850  0.870   68874900\n",
       "1323 2023-09-14  0.871  1.190  0.855  1.150  235670400\n",
       "1324 2023-09-15  1.330  1.380  1.150  1.190  271454100\n",
       "1325 2023-09-18  1.240  1.630  1.230  1.590  306512500\n",
       "\n",
       "[1326 rows x 6 columns]"
      ]
     },
     "execution_count": 51,
     "metadata": {},
     "output_type": "execute_result"
    }
   ],
   "source": [
    "# Create connection to remote MySQL database\n",
    "hostname = \"gator3228.hostgator.com\"\n",
    "username = \"rbrennan_sm_jb\"\n",
    "password = \"This_is_not_the_password\"\n",
    "database = \"rbrennan_stock_project_4\"\n",
    "# Create a database connection\n",
    "db_url = f\"mysql+mysqlconnector://{username}:{password}@{hostname}/{database}\"\n",
    "engine = create_engine(db_url)\n",
    "# Test the connection\n",
    "try:\n",
    "    conn = engine.connect()\n",
    "    print(\"Connected to MySQL database\")\n",
    "except Exception as e:\n",
    "    print(\"Error:\", e)\n",
    "nikola_df = pd.read_sql(\"SELECT * FROM Nikola\", conn)\n",
    "\n",
    "nikola_df#.head()"
   ]
  },
  {
   "cell_type": "code",
   "execution_count": 52,
   "metadata": {},
   "outputs": [
    {
     "data": {
      "text/plain": [
       "Date      0\n",
       "Open      0\n",
       "High      0\n",
       "Low       0\n",
       "Close     0\n",
       "Volume    0\n",
       "dtype: int64"
      ]
     },
     "execution_count": 52,
     "metadata": {},
     "output_type": "execute_result"
    }
   ],
   "source": [
    "# check for missing values in dataset\n",
    "\n",
    "null_vals = nikola_df.isnull().sum()\n",
    "null_vals "
   ]
  },
  {
   "cell_type": "code",
   "execution_count": 53,
   "metadata": {},
   "outputs": [
    {
     "name": "stdout",
     "output_type": "stream",
     "text": [
      "<class 'pandas.core.frame.DataFrame'>\n",
      "RangeIndex: 1326 entries, 0 to 1325\n",
      "Data columns (total 6 columns):\n",
      " #   Column  Non-Null Count  Dtype         \n",
      "---  ------  --------------  -----         \n",
      " 0   Date    1326 non-null   datetime64[ns]\n",
      " 1   Open    1326 non-null   float64       \n",
      " 2   High    1326 non-null   float64       \n",
      " 3   Low     1326 non-null   float64       \n",
      " 4   Close   1326 non-null   float64       \n",
      " 5   Volume  1326 non-null   int64         \n",
      "dtypes: datetime64[ns](1), float64(4), int64(1)\n",
      "memory usage: 62.3 KB\n"
     ]
    }
   ],
   "source": [
    "# Check all info of dataframe\n",
    "\n",
    "nikola_df.info()"
   ]
  },
  {
   "cell_type": "code",
   "execution_count": 54,
   "metadata": {},
   "outputs": [],
   "source": [
    "# # Convert date to datetime\n",
    "# nikola_df['Date'] = pd.to_datetime(nikola_df['Date'])\n",
    "# # Re-test Data Ty\n",
    "# nikola_df.dtypes"
   ]
  },
  {
   "cell_type": "code",
   "execution_count": 55,
   "metadata": {},
   "outputs": [],
   "source": [
    "# Set date column to index\n",
    "\n",
    "# nikola_df.set_index('Date', inplace=True)\n"
   ]
  },
  {
   "cell_type": "code",
   "execution_count": 56,
   "metadata": {},
   "outputs": [
    {
     "data": {
      "text/plain": [
       "Index(['Date', 'Open', 'High', 'Low', 'Close', 'Volume'], dtype='object')"
      ]
     },
     "execution_count": 56,
     "metadata": {},
     "output_type": "execute_result"
    }
   ],
   "source": [
    "nikola_df.columns"
   ]
  },
  {
   "cell_type": "code",
   "execution_count": 57,
   "metadata": {},
   "outputs": [
    {
     "name": "stdout",
     "output_type": "stream",
     "text": [
      "         count          mean           std    min          25%         50%  \\\n",
      "Open    1326.0  1.185430e+01  1.090421e+01  0.557      6.79750       10.04   \n",
      "High    1326.0  1.224953e+01  1.152684e+01  0.570      7.20625       10.06   \n",
      "Low     1326.0  1.140478e+01  1.005245e+01  0.521      6.56750        9.99   \n",
      "Close   1326.0  1.180899e+01  1.079034e+01  0.542      6.79250       10.03   \n",
      "Volume  1326.0  1.482669e+07  2.949874e+07  0.000  60475.00000  8754650.00   \n",
      "\n",
      "                 75%           max  \n",
      "Open    1.189750e+01  9.313000e+01  \n",
      "High    1.220000e+01  9.399000e+01  \n",
      "Low     1.133500e+01  7.020000e+01  \n",
      "Close   1.176750e+01  7.973000e+01  \n",
      "Volume  1.531118e+07  3.856128e+08  \n"
     ]
    }
   ],
   "source": [
    "summary_stats = nikola_df.describe().T\n",
    "print(summary_stats)"
   ]
  },
  {
   "cell_type": "code",
   "execution_count": 58,
   "metadata": {},
   "outputs": [],
   "source": [
    "# calculate 50 day moving average as extra feature\n",
    "nikola_df['50_day_MA'] = nikola_df['Close'].rolling(window=50).mean()"
   ]
  },
  {
   "cell_type": "code",
   "execution_count": 59,
   "metadata": {},
   "outputs": [],
   "source": [
    "# Define function to create RSI column (Relative Strength Index), \n",
    "# RSI is a momentum oscillator that measures the speed and change of price movements.\n",
    "def calculate_rsi(data, window=14):\n",
    "    delta = data['Close'].diff(1)\n",
    "    gain = delta.where(delta > 0, 0)\n",
    "    loss = -delta.where(delta < 0, 0)\n",
    "\n",
    "    avg_gain = gain.rolling(window=window, min_periods=1).mean()\n",
    "    avg_loss = loss.rolling(window=window, min_periods=1).mean()\n",
    "\n",
    "    rs = avg_gain / avg_loss\n",
    "    rsi = 100 - (100 / (1 + rs))\n",
    "\n",
    "    return rsi\n",
    "\n",
    "# calculate RSI\n",
    "nikola_df['RSI'] = calculate_rsi(nikola_df)"
   ]
  },
  {
   "cell_type": "code",
   "execution_count": 60,
   "metadata": {},
   "outputs": [
    {
     "data": {
      "text/html": [
       "<div>\n",
       "<style scoped>\n",
       "    .dataframe tbody tr th:only-of-type {\n",
       "        vertical-align: middle;\n",
       "    }\n",
       "\n",
       "    .dataframe tbody tr th {\n",
       "        vertical-align: top;\n",
       "    }\n",
       "\n",
       "    .dataframe thead th {\n",
       "        text-align: right;\n",
       "    }\n",
       "</style>\n",
       "<table border=\"1\" class=\"dataframe\">\n",
       "  <thead>\n",
       "    <tr style=\"text-align: right;\">\n",
       "      <th></th>\n",
       "      <th>Date</th>\n",
       "      <th>Open</th>\n",
       "      <th>High</th>\n",
       "      <th>Low</th>\n",
       "      <th>Close</th>\n",
       "      <th>Volume</th>\n",
       "      <th>50_day_MA</th>\n",
       "      <th>RSI</th>\n",
       "    </tr>\n",
       "  </thead>\n",
       "  <tbody>\n",
       "    <tr>\n",
       "      <th>0</th>\n",
       "      <td>2018-06-12</td>\n",
       "      <td>9.56</td>\n",
       "      <td>9.56</td>\n",
       "      <td>9.56</td>\n",
       "      <td>9.56</td>\n",
       "      <td>300000</td>\n",
       "      <td>NaN</td>\n",
       "      <td>NaN</td>\n",
       "    </tr>\n",
       "    <tr>\n",
       "      <th>1</th>\n",
       "      <td>2018-06-13</td>\n",
       "      <td>9.57</td>\n",
       "      <td>9.58</td>\n",
       "      <td>9.56</td>\n",
       "      <td>9.57</td>\n",
       "      <td>179100</td>\n",
       "      <td>NaN</td>\n",
       "      <td>100.000000</td>\n",
       "    </tr>\n",
       "    <tr>\n",
       "      <th>2</th>\n",
       "      <td>2018-06-14</td>\n",
       "      <td>9.57</td>\n",
       "      <td>9.57</td>\n",
       "      <td>9.57</td>\n",
       "      <td>9.57</td>\n",
       "      <td>0</td>\n",
       "      <td>NaN</td>\n",
       "      <td>100.000000</td>\n",
       "    </tr>\n",
       "    <tr>\n",
       "      <th>3</th>\n",
       "      <td>2018-06-15</td>\n",
       "      <td>9.57</td>\n",
       "      <td>9.57</td>\n",
       "      <td>9.57</td>\n",
       "      <td>9.57</td>\n",
       "      <td>0</td>\n",
       "      <td>NaN</td>\n",
       "      <td>100.000000</td>\n",
       "    </tr>\n",
       "    <tr>\n",
       "      <th>4</th>\n",
       "      <td>2018-06-18</td>\n",
       "      <td>9.54</td>\n",
       "      <td>9.58</td>\n",
       "      <td>9.54</td>\n",
       "      <td>9.58</td>\n",
       "      <td>300</td>\n",
       "      <td>NaN</td>\n",
       "      <td>100.000000</td>\n",
       "    </tr>\n",
       "    <tr>\n",
       "      <th>5</th>\n",
       "      <td>2018-06-19</td>\n",
       "      <td>9.57</td>\n",
       "      <td>9.57</td>\n",
       "      <td>9.57</td>\n",
       "      <td>9.57</td>\n",
       "      <td>300500</td>\n",
       "      <td>NaN</td>\n",
       "      <td>66.666667</td>\n",
       "    </tr>\n",
       "    <tr>\n",
       "      <th>6</th>\n",
       "      <td>2018-06-20</td>\n",
       "      <td>9.54</td>\n",
       "      <td>9.59</td>\n",
       "      <td>9.54</td>\n",
       "      <td>9.59</td>\n",
       "      <td>900</td>\n",
       "      <td>NaN</td>\n",
       "      <td>80.000000</td>\n",
       "    </tr>\n",
       "    <tr>\n",
       "      <th>7</th>\n",
       "      <td>2018-06-21</td>\n",
       "      <td>9.59</td>\n",
       "      <td>9.59</td>\n",
       "      <td>9.59</td>\n",
       "      <td>9.59</td>\n",
       "      <td>0</td>\n",
       "      <td>NaN</td>\n",
       "      <td>80.000000</td>\n",
       "    </tr>\n",
       "    <tr>\n",
       "      <th>8</th>\n",
       "      <td>2018-06-22</td>\n",
       "      <td>9.58</td>\n",
       "      <td>9.58</td>\n",
       "      <td>9.58</td>\n",
       "      <td>9.58</td>\n",
       "      <td>100</td>\n",
       "      <td>NaN</td>\n",
       "      <td>66.666667</td>\n",
       "    </tr>\n",
       "    <tr>\n",
       "      <th>9</th>\n",
       "      <td>2018-06-25</td>\n",
       "      <td>9.58</td>\n",
       "      <td>9.58</td>\n",
       "      <td>9.58</td>\n",
       "      <td>9.58</td>\n",
       "      <td>0</td>\n",
       "      <td>NaN</td>\n",
       "      <td>66.666667</td>\n",
       "    </tr>\n",
       "    <tr>\n",
       "      <th>10</th>\n",
       "      <td>2018-06-26</td>\n",
       "      <td>9.54</td>\n",
       "      <td>9.59</td>\n",
       "      <td>9.54</td>\n",
       "      <td>9.58</td>\n",
       "      <td>658100</td>\n",
       "      <td>NaN</td>\n",
       "      <td>66.666667</td>\n",
       "    </tr>\n",
       "    <tr>\n",
       "      <th>11</th>\n",
       "      <td>2018-06-27</td>\n",
       "      <td>9.58</td>\n",
       "      <td>9.58</td>\n",
       "      <td>9.58</td>\n",
       "      <td>9.58</td>\n",
       "      <td>0</td>\n",
       "      <td>NaN</td>\n",
       "      <td>66.666667</td>\n",
       "    </tr>\n",
       "    <tr>\n",
       "      <th>12</th>\n",
       "      <td>2018-06-28</td>\n",
       "      <td>9.58</td>\n",
       "      <td>9.58</td>\n",
       "      <td>9.58</td>\n",
       "      <td>9.58</td>\n",
       "      <td>0</td>\n",
       "      <td>NaN</td>\n",
       "      <td>66.666667</td>\n",
       "    </tr>\n",
       "    <tr>\n",
       "      <th>13</th>\n",
       "      <td>2018-06-29</td>\n",
       "      <td>9.58</td>\n",
       "      <td>9.58</td>\n",
       "      <td>9.58</td>\n",
       "      <td>9.58</td>\n",
       "      <td>0</td>\n",
       "      <td>NaN</td>\n",
       "      <td>66.666667</td>\n",
       "    </tr>\n",
       "    <tr>\n",
       "      <th>14</th>\n",
       "      <td>2018-07-02</td>\n",
       "      <td>9.58</td>\n",
       "      <td>9.58</td>\n",
       "      <td>9.58</td>\n",
       "      <td>9.58</td>\n",
       "      <td>0</td>\n",
       "      <td>NaN</td>\n",
       "      <td>66.666667</td>\n",
       "    </tr>\n",
       "  </tbody>\n",
       "</table>\n",
       "</div>"
      ],
      "text/plain": [
       "         Date  Open  High   Low  Close  Volume  50_day_MA         RSI\n",
       "0  2018-06-12  9.56  9.56  9.56   9.56  300000        NaN         NaN\n",
       "1  2018-06-13  9.57  9.58  9.56   9.57  179100        NaN  100.000000\n",
       "2  2018-06-14  9.57  9.57  9.57   9.57       0        NaN  100.000000\n",
       "3  2018-06-15  9.57  9.57  9.57   9.57       0        NaN  100.000000\n",
       "4  2018-06-18  9.54  9.58  9.54   9.58     300        NaN  100.000000\n",
       "5  2018-06-19  9.57  9.57  9.57   9.57  300500        NaN   66.666667\n",
       "6  2018-06-20  9.54  9.59  9.54   9.59     900        NaN   80.000000\n",
       "7  2018-06-21  9.59  9.59  9.59   9.59       0        NaN   80.000000\n",
       "8  2018-06-22  9.58  9.58  9.58   9.58     100        NaN   66.666667\n",
       "9  2018-06-25  9.58  9.58  9.58   9.58       0        NaN   66.666667\n",
       "10 2018-06-26  9.54  9.59  9.54   9.58  658100        NaN   66.666667\n",
       "11 2018-06-27  9.58  9.58  9.58   9.58       0        NaN   66.666667\n",
       "12 2018-06-28  9.58  9.58  9.58   9.58       0        NaN   66.666667\n",
       "13 2018-06-29  9.58  9.58  9.58   9.58       0        NaN   66.666667\n",
       "14 2018-07-02  9.58  9.58  9.58   9.58       0        NaN   66.666667"
      ]
     },
     "execution_count": 60,
     "metadata": {},
     "output_type": "execute_result"
    }
   ],
   "source": [
    "nikola_df.head(15)"
   ]
  },
  {
   "cell_type": "code",
   "execution_count": 61,
   "metadata": {},
   "outputs": [],
   "source": [
    "# Define features/targets & Split data for training & testing \n",
    "\n",
    "#features\n",
    "features = ['Open', 'High', 'Low', 'Volume', '50_day_MA', 'RSI']\n",
    "target = 'Close'\n",
    "\n",
    "#split data\n",
    "train_data, test_data = train_test_split(nikola_df, test_size=0.05, shuffle=False)"
   ]
  },
  {
   "cell_type": "code",
   "execution_count": 62,
   "metadata": {},
   "outputs": [],
   "source": [
    "# # Preprocessing data with StandardScaler\n",
    "\n",
    "# # Create a StandardScaler instances\n",
    "# scaler = StandardScaler()\n",
    "\n",
    "# # Fit the StandardScaler\n",
    "# train_scaler = scaler.fit(train_data[features])\n",
    "# # Scale the data\n",
    "# train_scaled = train_scaler.transform(train_data[features])\n",
    "# test_scaled = train_scaler.transform(test_data[features])"
   ]
  },
  {
   "cell_type": "code",
   "execution_count": 63,
   "metadata": {},
   "outputs": [],
   "source": [
    "# train_d = pd.DataFrame(train_scaled, columns=features)\n",
    "# test_d = pd.DataFrame(test_scaled, columns=features)"
   ]
  },
  {
   "cell_type": "code",
   "execution_count": 64,
   "metadata": {},
   "outputs": [],
   "source": [
    "# train_d['Date'] = train_data['Date']\n",
    "# test_d['Date'] = test_data['Date']"
   ]
  },
  {
   "cell_type": "code",
   "execution_count": 65,
   "metadata": {},
   "outputs": [],
   "source": [
    "# train_data = train_d\n",
    "# test_data = test_d"
   ]
  },
  {
   "cell_type": "code",
   "execution_count": 66,
   "metadata": {},
   "outputs": [
    {
     "data": {
      "text/html": [
       "<div>\n",
       "<style scoped>\n",
       "    .dataframe tbody tr th:only-of-type {\n",
       "        vertical-align: middle;\n",
       "    }\n",
       "\n",
       "    .dataframe tbody tr th {\n",
       "        vertical-align: top;\n",
       "    }\n",
       "\n",
       "    .dataframe thead th {\n",
       "        text-align: right;\n",
       "    }\n",
       "</style>\n",
       "<table border=\"1\" class=\"dataframe\">\n",
       "  <thead>\n",
       "    <tr style=\"text-align: right;\">\n",
       "      <th></th>\n",
       "      <th>Open</th>\n",
       "      <th>High</th>\n",
       "      <th>Low</th>\n",
       "      <th>Close</th>\n",
       "      <th>Volume</th>\n",
       "      <th>50_day_MA</th>\n",
       "      <th>RSI</th>\n",
       "    </tr>\n",
       "  </thead>\n",
       "  <tbody>\n",
       "    <tr>\n",
       "      <th>count</th>\n",
       "      <td>1259.000000</td>\n",
       "      <td>1259.000000</td>\n",
       "      <td>1259.000000</td>\n",
       "      <td>1259.000000</td>\n",
       "      <td>1.259000e+03</td>\n",
       "      <td>1210.000000</td>\n",
       "      <td>1258.000000</td>\n",
       "    </tr>\n",
       "    <tr>\n",
       "      <th>mean</th>\n",
       "      <td>12.395979</td>\n",
       "      <td>12.805195</td>\n",
       "      <td>11.929549</td>\n",
       "      <td>12.348381</td>\n",
       "      <td>1.049335e+07</td>\n",
       "      <td>12.639663</td>\n",
       "      <td>50.350466</td>\n",
       "    </tr>\n",
       "    <tr>\n",
       "      <th>std</th>\n",
       "      <td>10.927161</td>\n",
       "      <td>11.567437</td>\n",
       "      <td>10.048054</td>\n",
       "      <td>10.809749</td>\n",
       "      <td>1.408345e+07</td>\n",
       "      <td>9.842791</td>\n",
       "      <td>18.249876</td>\n",
       "    </tr>\n",
       "    <tr>\n",
       "      <th>min</th>\n",
       "      <td>0.557000</td>\n",
       "      <td>0.570000</td>\n",
       "      <td>0.521000</td>\n",
       "      <td>0.542000</td>\n",
       "      <td>0.000000e+00</td>\n",
       "      <td>0.843880</td>\n",
       "      <td>0.000000</td>\n",
       "    </tr>\n",
       "    <tr>\n",
       "      <th>25%</th>\n",
       "      <td>7.885000</td>\n",
       "      <td>8.180000</td>\n",
       "      <td>7.665000</td>\n",
       "      <td>7.955000</td>\n",
       "      <td>4.570000e+04</td>\n",
       "      <td>8.381800</td>\n",
       "      <td>36.335266</td>\n",
       "    </tr>\n",
       "    <tr>\n",
       "      <th>50%</th>\n",
       "      <td>10.100000</td>\n",
       "      <td>10.150000</td>\n",
       "      <td>10.040000</td>\n",
       "      <td>10.100000</td>\n",
       "      <td>8.403600e+06</td>\n",
       "      <td>10.161640</td>\n",
       "      <td>51.733746</td>\n",
       "    </tr>\n",
       "    <tr>\n",
       "      <th>75%</th>\n",
       "      <td>12.340000</td>\n",
       "      <td>12.708000</td>\n",
       "      <td>11.817500</td>\n",
       "      <td>12.115000</td>\n",
       "      <td>1.401855e+07</td>\n",
       "      <td>13.130775</td>\n",
       "      <td>62.500000</td>\n",
       "    </tr>\n",
       "    <tr>\n",
       "      <th>max</th>\n",
       "      <td>93.129997</td>\n",
       "      <td>93.989998</td>\n",
       "      <td>70.199997</td>\n",
       "      <td>79.730003</td>\n",
       "      <td>1.385377e+08</td>\n",
       "      <td>51.660080</td>\n",
       "      <td>100.000000</td>\n",
       "    </tr>\n",
       "  </tbody>\n",
       "</table>\n",
       "</div>"
      ],
      "text/plain": [
       "              Open         High          Low        Close        Volume  \\\n",
       "count  1259.000000  1259.000000  1259.000000  1259.000000  1.259000e+03   \n",
       "mean     12.395979    12.805195    11.929549    12.348381  1.049335e+07   \n",
       "std      10.927161    11.567437    10.048054    10.809749  1.408345e+07   \n",
       "min       0.557000     0.570000     0.521000     0.542000  0.000000e+00   \n",
       "25%       7.885000     8.180000     7.665000     7.955000  4.570000e+04   \n",
       "50%      10.100000    10.150000    10.040000    10.100000  8.403600e+06   \n",
       "75%      12.340000    12.708000    11.817500    12.115000  1.401855e+07   \n",
       "max      93.129997    93.989998    70.199997    79.730003  1.385377e+08   \n",
       "\n",
       "         50_day_MA          RSI  \n",
       "count  1210.000000  1258.000000  \n",
       "mean     12.639663    50.350466  \n",
       "std       9.842791    18.249876  \n",
       "min       0.843880     0.000000  \n",
       "25%       8.381800    36.335266  \n",
       "50%      10.161640    51.733746  \n",
       "75%      13.130775    62.500000  \n",
       "max      51.660080   100.000000  "
      ]
     },
     "execution_count": 66,
     "metadata": {},
     "output_type": "execute_result"
    }
   ],
   "source": [
    "train_data.describe()"
   ]
  },
  {
   "cell_type": "code",
   "execution_count": null,
   "metadata": {},
   "outputs": [],
   "source": []
  },
  {
   "cell_type": "markdown",
   "metadata": {},
   "source": [
    " ## ARIMA model "
   ]
  },
  {
   "cell_type": "code",
   "execution_count": 67,
   "metadata": {},
   "outputs": [],
   "source": [
    "# Define ARIMA model \n",
    "arima_model = ARIMA(train_data[target], order=(1, 1, 2))\n",
    "arima_fit = arima_model.fit()"
   ]
  },
  {
   "cell_type": "code",
   "execution_count": 68,
   "metadata": {},
   "outputs": [
    {
     "name": "stdout",
     "output_type": "stream",
     "text": [
      "1.24450728536255\n"
     ]
    }
   ],
   "source": [
    "predictions = arima_fit.forecast(steps=len(test_data))\n",
    "mse = mean_squared_error(test_data[target], predictions)\n",
    "print(mse)"
   ]
  },
  {
   "cell_type": "code",
   "execution_count": 69,
   "metadata": {},
   "outputs": [
    {
     "data": {
      "image/png": "[encoded data removed]",
      "text/plain": [
       "<Figure size 640x480 with 1 Axes>"
      ]
     },
     "metadata": {},
     "output_type": "display_data"
    }
   ],
   "source": [
    "# plot ARIMA model \n",
    "plt.plot(test_data['Date'], test_data[target], label='Actual')\n",
    "plt.plot(test_data['Date'], predictions, label='Predicted')\n",
    "plt.legend(loc='upper right')\n",
    "plt.xlabel('Date')\n",
    "plt.ylabel('Price')\n",
    "plt.title('Nikola - Actual vs. Predicted Stock Price')\n",
    "plt.show()"
   ]
  },
  {
   "cell_type": "markdown",
   "metadata": {},
   "source": [
    "## XGBoost Model"
   ]
  },
  {
   "cell_type": "code",
   "execution_count": 70,
   "metadata": {},
   "outputs": [],
   "source": [
    "# Define XGBoost Model\n",
    "\n",
    "#features & target\n",
    "features_xgb = ['Open', 'High', 'Low', 'Volume', '50_day_MA', 'RSI']\n",
    "target_xgb = 'Close'\n",
    "\n",
    "train_dmatrix = xgb.DMatrix(data=train_data[features_xgb], label=train_data[target_xgb])\n",
    "\n",
    "# Define XGBoost parameters\n",
    "params = {\n",
    "    'objective': 'reg:squarederror',\n",
    "    'max_depth': 30,\n",
    "    'learning_rate': 0.3\n",
    "}\n",
    "\n",
    "# Train the XGBoost model\n",
    "xgb_model = xgb.train(params=params, dtrain=train_dmatrix)"
   ]
  },
  {
   "cell_type": "markdown",
   "metadata": {},
   "source": [
    "## Model Optimization Changes\n",
    "1. max depth increase from 3 to 10 then to 30\n",
    "2. learning rate increased to 0.01 reducing accuracy\n",
    "3. l-rate lowered to 0.3  producing the most acc prediction yet\n",
    "4. Mistakenly left target in features, removed 'Close' from Features"
   ]
  },
  {
   "cell_type": "code",
   "execution_count": 71,
   "metadata": {},
   "outputs": [
    {
     "name": "stdout",
     "output_type": "stream",
     "text": [
      "Mean Squared Error of XGBoost model : 0.04717763970647921\n"
     ]
    }
   ],
   "source": [
    "# Create DMatrix for test data\n",
    "test_dmatrix = xgb.DMatrix(data=test_data[features_xgb], label=test_data[target_xgb])\n",
    "\n",
    "# Use the trained XGBoost model to make predictions\n",
    "xgb_predictions = xgb_model.predict(test_dmatrix)\n",
    "\n",
    "# Calculate Mean Squared Error\n",
    "mse_xgb = mean_squared_error(test_data[target_xgb], xgb_predictions)\n",
    "print(f'Mean Squared Error of XGBoost model : {mse_xgb}')"
   ]
  },
  {
   "cell_type": "code",
   "execution_count": 72,
   "metadata": {},
   "outputs": [
    {
     "data": {
      "text/plain": [
       "0.17154750236112679"
      ]
     },
     "execution_count": 72,
     "metadata": {},
     "output_type": "execute_result"
    }
   ],
   "source": [
    "# Calculate mean squared error\n",
    "mae_xgb = mean_absolute_error(test_data[target_xgb], xgb_predictions)\n",
    "mae_xgb"
   ]
  },
  {
   "cell_type": "code",
   "execution_count": 73,
   "metadata": {},
   "outputs": [
    {
     "name": "stdout",
     "output_type": "stream",
     "text": [
      "           Date   Open   High    Low  Close     Volume  50_day_MA        RSI\n",
      "1259 2023-06-13  0.800  0.960  0.752  0.914  128579800    0.83796  59.459459\n",
      "1260 2023-06-14  1.050  1.175  0.990  1.080  121061200    0.83376  67.906977\n",
      "1261 2023-06-15  1.230  1.830  1.180  1.400  307869000    0.83736  88.367546\n",
      "1262 2023-06-16  1.700  1.720  1.130  1.190  233099000    0.83776  74.834437\n",
      "1263 2023-06-20  1.270  1.340  1.180  1.320   71793600    0.83976  76.934750\n",
      "...         ...    ...    ...    ...    ...        ...        ...        ...\n",
      "1321 2023-09-12  0.889  0.914  0.826  0.912   99803800    1.82588  20.533643\n",
      "1322 2023-09-13  0.910  0.913  0.850  0.870   68874900    1.81588  22.014925\n",
      "1323 2023-09-14  0.871  1.190  0.855  1.150  235670400    1.81028  46.208291\n",
      "1324 2023-09-15  1.330  1.380  1.150  1.190  271454100    1.80808  43.644068\n",
      "1325 2023-09-18  1.240  1.630  1.230  1.590  306512500    1.81168  63.736264\n",
      "\n",
      "[67 rows x 8 columns]\n"
     ]
    }
   ],
   "source": [
    "test_dmatrix_data = test_dmatrix.get_data()\n",
    "print(test_data)"
   ]
  },
  {
   "cell_type": "code",
   "execution_count": 74,
   "metadata": {},
   "outputs": [
    {
     "data": {
      "text/plain": [
       "{'Open': 252.0,\n",
       " 'High': 214.0,\n",
       " 'Low': 207.0,\n",
       " 'Volume': 149.0,\n",
       " '50_day_MA': 99.0,\n",
       " 'RSI': 96.0}"
      ]
     },
     "execution_count": 74,
     "metadata": {},
     "output_type": "execute_result"
    }
   ],
   "source": [
    "xgb_model.get_score()"
   ]
  },
  {
   "cell_type": "code",
   "execution_count": 75,
   "metadata": {},
   "outputs": [
    {
     "data": {
      "image/png": "[encoded data removed]",
      "text/plain": [
       "<Figure size 1600x800 with 1 Axes>"
      ]
     },
     "metadata": {},
     "output_type": "display_data"
    }
   ],
   "source": [
    "# plot XGBoost model\n",
    "plt.figure(figsize=(16,8))\n",
    "plt.plot(test_data['Date'], test_data[target_xgb], label='Actual')\n",
    "plt.plot(test_data['Date'], xgb_predictions, label='Predicted')\n",
    "plt.legend(loc='upper right')\n",
    "plt.xticks(test_data['Date'], rotation=90)\n",
    "plt.xlabel('Date')\n",
    "plt.ylabel('Price')\n",
    "plt.title('Nikola - Actual vs. Predicted Stock Price (XGboost)')\n",
    "plt.show()\n"
   ]
  },
  {
   "cell_type": "code",
   "execution_count": null,
   "metadata": {},
   "outputs": [],
   "source": []
  }
 ],
 "metadata": {
  "kernelspec": {
   "display_name": "dev",
   "language": "python",
   "name": "python3"
  },
  "language_info": {
   "codemirror_mode": {
    "name": "ipython",
    "version": 3
   },
   "file_extension": ".py",
   "mimetype": "text/x-python",
   "name": "python",
   "nbconvert_exporter": "python",
   "pygments_lexer": "ipython3",
   "version": "3.10.11"
  },
  "orig_nbformat": 4
 },
 "nbformat": 4,
 "nbformat_minor": 2
}
